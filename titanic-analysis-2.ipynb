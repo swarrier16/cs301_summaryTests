{
 "cells": [
  {
   "cell_type": "markdown",
   "metadata": {},
   "source": [
    "# Who survived the Titantic?"
   ]
  },
  {
   "cell_type": "markdown",
   "metadata": {},
   "source": [
    "## General Set-Up"
   ]
  },
  {
   "cell_type": "code",
   "execution_count": 22,
   "metadata": {},
   "outputs": [],
   "source": [
    "import pandas as pd\n",
    "pd.set_option('display.max_columns', 999)\n",
    "import numpy as np\n",
    "import os\n",
    "\n",
    "##Visualization Libraries\n",
    "import matplotlib as mpl\n",
    "import matplotlib.pyplot as plt\n",
    "%matplotlib inline"
   ]
  },
  {
   "cell_type": "code",
   "execution_count": 23,
   "metadata": {},
   "outputs": [
    {
     "data": {
      "text/html": [
       "<div>\n",
       "<style scoped>\n",
       "    .dataframe tbody tr th:only-of-type {\n",
       "        vertical-align: middle;\n",
       "    }\n",
       "\n",
       "    .dataframe tbody tr th {\n",
       "        vertical-align: top;\n",
       "    }\n",
       "\n",
       "    .dataframe thead th {\n",
       "        text-align: right;\n",
       "    }\n",
       "</style>\n",
       "<table border=\"1\" class=\"dataframe\">\n",
       "  <thead>\n",
       "    <tr style=\"text-align: right;\">\n",
       "      <th></th>\n",
       "      <th>pclass</th>\n",
       "      <th>survived</th>\n",
       "      <th>name</th>\n",
       "      <th>sex</th>\n",
       "      <th>age</th>\n",
       "      <th>siblings/spouses</th>\n",
       "      <th>parents/children</th>\n",
       "      <th>ticket</th>\n",
       "      <th>fare</th>\n",
       "      <th>cabin</th>\n",
       "      <th>embarked</th>\n",
       "      <th>boat</th>\n",
       "      <th>body</th>\n",
       "      <th>home.dest</th>\n",
       "    </tr>\n",
       "    <tr>\n",
       "      <th>pid</th>\n",
       "      <th></th>\n",
       "      <th></th>\n",
       "      <th></th>\n",
       "      <th></th>\n",
       "      <th></th>\n",
       "      <th></th>\n",
       "      <th></th>\n",
       "      <th></th>\n",
       "      <th></th>\n",
       "      <th></th>\n",
       "      <th></th>\n",
       "      <th></th>\n",
       "      <th></th>\n",
       "      <th></th>\n",
       "    </tr>\n",
       "  </thead>\n",
       "  <tbody>\n",
       "    <tr>\n",
       "      <td>1</td>\n",
       "      <td>3</td>\n",
       "      <td>0</td>\n",
       "      <td>Abbing, Mr. Anthony</td>\n",
       "      <td>male</td>\n",
       "      <td>42.0</td>\n",
       "      <td>0</td>\n",
       "      <td>0</td>\n",
       "      <td>C.A. 5547</td>\n",
       "      <td>7.55</td>\n",
       "      <td>NaN</td>\n",
       "      <td>S</td>\n",
       "      <td>NaN</td>\n",
       "      <td>NaN</td>\n",
       "      <td>NaN</td>\n",
       "    </tr>\n",
       "    <tr>\n",
       "      <td>2</td>\n",
       "      <td>3</td>\n",
       "      <td>0</td>\n",
       "      <td>Abbott, Master. Eugene Joseph</td>\n",
       "      <td>male</td>\n",
       "      <td>13.0</td>\n",
       "      <td>0</td>\n",
       "      <td>2</td>\n",
       "      <td>C.A. 2673</td>\n",
       "      <td>20.25</td>\n",
       "      <td>NaN</td>\n",
       "      <td>S</td>\n",
       "      <td>NaN</td>\n",
       "      <td>NaN</td>\n",
       "      <td>East Providence, RI</td>\n",
       "    </tr>\n",
       "    <tr>\n",
       "      <td>3</td>\n",
       "      <td>3</td>\n",
       "      <td>0</td>\n",
       "      <td>Abbott, Mr. Rossmore Edward</td>\n",
       "      <td>male</td>\n",
       "      <td>16.0</td>\n",
       "      <td>1</td>\n",
       "      <td>1</td>\n",
       "      <td>C.A. 2673</td>\n",
       "      <td>20.25</td>\n",
       "      <td>NaN</td>\n",
       "      <td>S</td>\n",
       "      <td>NaN</td>\n",
       "      <td>190.0</td>\n",
       "      <td>East Providence, RI</td>\n",
       "    </tr>\n",
       "    <tr>\n",
       "      <td>4</td>\n",
       "      <td>3</td>\n",
       "      <td>1</td>\n",
       "      <td>Abbott, Mrs. Stanton (Rosa Hunt)</td>\n",
       "      <td>female</td>\n",
       "      <td>35.0</td>\n",
       "      <td>1</td>\n",
       "      <td>1</td>\n",
       "      <td>C.A. 2673</td>\n",
       "      <td>20.25</td>\n",
       "      <td>NaN</td>\n",
       "      <td>S</td>\n",
       "      <td>A</td>\n",
       "      <td>NaN</td>\n",
       "      <td>East Providence, RI</td>\n",
       "    </tr>\n",
       "    <tr>\n",
       "      <td>5</td>\n",
       "      <td>3</td>\n",
       "      <td>1</td>\n",
       "      <td>Abelseth, Miss. Karen Marie</td>\n",
       "      <td>female</td>\n",
       "      <td>16.0</td>\n",
       "      <td>0</td>\n",
       "      <td>0</td>\n",
       "      <td>348125</td>\n",
       "      <td>7.65</td>\n",
       "      <td>NaN</td>\n",
       "      <td>S</td>\n",
       "      <td>16</td>\n",
       "      <td>NaN</td>\n",
       "      <td>Norway Los Angeles, CA</td>\n",
       "    </tr>\n",
       "  </tbody>\n",
       "</table>\n",
       "</div>"
      ],
      "text/plain": [
       "     pclass  survived                              name     sex   age  \\\n",
       "pid                                                                     \n",
       "1         3         0               Abbing, Mr. Anthony    male  42.0   \n",
       "2         3         0     Abbott, Master. Eugene Joseph    male  13.0   \n",
       "3         3         0       Abbott, Mr. Rossmore Edward    male  16.0   \n",
       "4         3         1  Abbott, Mrs. Stanton (Rosa Hunt)  female  35.0   \n",
       "5         3         1       Abelseth, Miss. Karen Marie  female  16.0   \n",
       "\n",
       "     siblings/spouses  parents/children     ticket   fare cabin embarked boat  \\\n",
       "pid                                                                             \n",
       "1                   0                 0  C.A. 5547   7.55   NaN        S  NaN   \n",
       "2                   0                 2  C.A. 2673  20.25   NaN        S  NaN   \n",
       "3                   1                 1  C.A. 2673  20.25   NaN        S  NaN   \n",
       "4                   1                 1  C.A. 2673  20.25   NaN        S    A   \n",
       "5                   0                 0     348125   7.65   NaN        S   16   \n",
       "\n",
       "      body               home.dest  \n",
       "pid                                 \n",
       "1      NaN                     NaN  \n",
       "2      NaN     East Providence, RI  \n",
       "3    190.0     East Providence, RI  \n",
       "4      NaN     East Providence, RI  \n",
       "5      NaN  Norway Los Angeles, CA  "
      ]
     },
     "execution_count": 23,
     "metadata": {},
     "output_type": "execute_result"
    }
   ],
   "source": [
    "data_dir = os.getcwd()\n",
    "student_file = data_dir + '/TitanicData.csv'\n",
    "df = pd.read_csv(student_file, index_col=0)\n",
    "df.head()"
   ]
  },
  {
   "cell_type": "code",
   "execution_count": 24,
   "metadata": {},
   "outputs": [],
   "source": [
    "#Function to find quartiles and outliers\n",
    "\n",
    "import numpy as np \n",
    "import seaborn as sns\n",
    "\n",
    "def get_num_outliers(df, col):\n",
    "    nums = df[col]\n",
    "    test = []\n",
    "    \n",
    "    for t in nums:\n",
    "        test.append(t) \n",
    "        \n",
    "    \n",
    "\n",
    "    outliers = []\n",
    "    results = {}\n",
    "    \n",
    "    test.sort()\n",
    "    \n",
    "    q1 = np.quantile(test, .25)\n",
    "    q2 = np.quantile(test, .50)\n",
    "    q3 = np.quantile(test, .75)\n",
    "    \n",
    "    print (q1)\n",
    "    \n",
    "    IQR = q3-q1\n",
    "    sz1 = q1-1.5*IQR\n",
    "    sz2 = q3+1.5*IQR\n",
    "    count = 0\n",
    "    \n",
    "    for num in test:\n",
    "        if (num < sz1):\n",
    "            outliers.append(num)\n",
    "            count += 1\n",
    "            continue\n",
    "        else:\n",
    "           \n",
    "            break\n",
    "            \n",
    "    for i in reversed(test) :\n",
    "        if (i > sz2):\n",
    "            outliers.append(i)\n",
    "            count += 1\n",
    "            continue\n",
    "        else:\n",
    "            \n",
    "            break\n",
    "                \n",
    "    results[\"min\"] = min(nums)\n",
    "    results[\"q1\"] = q1\n",
    "    results[\"q2\"] = q2\n",
    "    results[\"q3\"] = q3\n",
    "    results[\"max\"] = max(nums)\n",
    "    \n",
    "    if len(outliers) != 0:\n",
    "        print (\"There are \", count, \"outliers: \" , outliers)\n",
    "    else:\n",
    "        print(\"There are no outliers\")\n",
    "        \n",
    "        \n",
    "    return results\n",
    "\n"
   ]
  },
  {
   "cell_type": "code",
   "execution_count": 25,
   "metadata": {},
   "outputs": [
    {
     "name": "stdout",
     "output_type": "stream",
     "text": [
      "0.0\n",
      "There are  57 outliers:  [8, 8, 8, 8, 8, 8, 8, 8, 8, 5, 5, 5, 5, 5, 5, 4, 4, 4, 4, 4, 4, 4, 4, 4, 4, 4, 4, 4, 4, 4, 4, 4, 4, 4, 4, 4, 4, 3, 3, 3, 3, 3, 3, 3, 3, 3, 3, 3, 3, 3, 3, 3, 3, 3, 3, 3, 3]\n",
      "{'min': 0, 'q1': 0.0, 'q2': 0.0, 'q3': 1.0, 'max': 8}\n"
     ]
    }
   ],
   "source": [
    "#summary for siblings/ spouses column\n",
    "print (get_num_outliers(df, 'siblings/spouses'))"
   ]
  },
  {
   "cell_type": "code",
   "execution_count": 26,
   "metadata": {},
   "outputs": [
    {
     "name": "stdout",
     "output_type": "stream",
     "text": [
      "0.0\n",
      "There are  307 outliers:  [9, 9, 6, 6, 5, 5, 5, 5, 5, 5, 4, 4, 4, 4, 4, 4, 3, 3, 3, 3, 3, 3, 3, 3, 2, 2, 2, 2, 2, 2, 2, 2, 2, 2, 2, 2, 2, 2, 2, 2, 2, 2, 2, 2, 2, 2, 2, 2, 2, 2, 2, 2, 2, 2, 2, 2, 2, 2, 2, 2, 2, 2, 2, 2, 2, 2, 2, 2, 2, 2, 2, 2, 2, 2, 2, 2, 2, 2, 2, 2, 2, 2, 2, 2, 2, 2, 2, 2, 2, 2, 2, 2, 2, 2, 2, 2, 2, 2, 2, 2, 2, 2, 2, 2, 2, 2, 2, 2, 2, 2, 2, 2, 2, 2, 2, 2, 2, 2, 2, 2, 2, 2, 2, 2, 2, 2, 2, 2, 2, 2, 2, 2, 2, 2, 2, 2, 2, 1, 1, 1, 1, 1, 1, 1, 1, 1, 1, 1, 1, 1, 1, 1, 1, 1, 1, 1, 1, 1, 1, 1, 1, 1, 1, 1, 1, 1, 1, 1, 1, 1, 1, 1, 1, 1, 1, 1, 1, 1, 1, 1, 1, 1, 1, 1, 1, 1, 1, 1, 1, 1, 1, 1, 1, 1, 1, 1, 1, 1, 1, 1, 1, 1, 1, 1, 1, 1, 1, 1, 1, 1, 1, 1, 1, 1, 1, 1, 1, 1, 1, 1, 1, 1, 1, 1, 1, 1, 1, 1, 1, 1, 1, 1, 1, 1, 1, 1, 1, 1, 1, 1, 1, 1, 1, 1, 1, 1, 1, 1, 1, 1, 1, 1, 1, 1, 1, 1, 1, 1, 1, 1, 1, 1, 1, 1, 1, 1, 1, 1, 1, 1, 1, 1, 1, 1, 1, 1, 1, 1, 1, 1, 1, 1, 1, 1, 1, 1, 1, 1, 1, 1, 1, 1, 1, 1, 1, 1, 1, 1, 1, 1, 1, 1, 1, 1, 1, 1, 1]\n",
      "{'min': 0, 'q1': 0.0, 'q2': 0.0, 'q3': 0.0, 'max': 9}\n"
     ]
    }
   ],
   "source": [
    "#summary for parents/ children column\n",
    "print (get_num_outliers(df, 'parents/children'))"
   ]
  },
  {
   "cell_type": "code",
   "execution_count": 29,
   "metadata": {},
   "outputs": [
    {
     "name": "stdout",
     "output_type": "stream",
     "text": [
      "171\n",
      "There are  171 outliers:  [211.34, 151.55, 151.55, 151.55, 151.55, 77.96, 227.53, 227.53, 69.3, 78.85, 247.52, 247.52, 76.29, 75.24, 227.53, 221.78, 91.08, 91.08, 135.63, 164.87, 262.38, 76.29, 134.5, 512.33, 512.33, 120.0, 120.0, 120.0, 120.0, 78.85, 78.85, 262.38, 86.5, 136.78, 136.78, 151.55, 83.16, 83.16, 83.16, 71.0, 71.0, 71.28, 71.28, 151.55, 73.5, 73.5, 73.5, 81.86, 81.86, 81.86, 106.43, 247.52, 106.43, 83.16, 227.53, 78.27, 221.78, 110.88, 263.0, 263.0, 263.0, 263.0, 263.0, 263.0, 133.65, 133.65, 79.2, 79.2, 211.5, 79.2, 89.1, 89.1, 153.46, 153.46, 79.2, 76.73, 76.73, 83.48, 83.48, 76.73, 83.16, 93.5, 93.5, 73.5, 73.5, 73.5, 77.96, 73.5, 90.0, 90.0, 80.0, 211.5, 211.34, 106.43, 512.33, 77.96, 146.52, 211.34, 86.5, 75.24, 82.17, 82.17, 90.0, 90.0, 90.0, 113.28, 113.28, 113.28, 108.9, 93.5, 66.6, 66.6, 108.9, 108.9, 93.5, 83.16, 135.63, 227.53, 211.34, 79.2, 86.5, 262.38, 262.38, 262.38, 262.38, 262.38, 69.55, 69.55, 69.55, 69.55, 69.55, 69.55, 69.55, 69.55, 69.55, 69.55, 69.55, 69.3, 153.46, 82.27, 82.27, 134.5, 134.5, 134.5, 146.52, 146.52, 78.27, 80.0, 221.78, 221.78, 79.65, 79.65, 79.65, 110.88, 110.88, 110.88, 79.2, 512.33, 75.25, 75.25, 77.29, 77.29, 135.63, 164.87, 164.87, 164.87, 211.5, 211.5, 211.5, 134.5, 135.63]\n",
      "The mean is:  33.296261467890034\n"
     ]
    }
   ],
   "source": [
    "#funcitionality to get outliers for floats (fare column)\n",
    "outliers = []\n",
    "nums = df['fare'].sort_values()\n",
    "q1 = 7.90\n",
    "q2 = 14.45\n",
    "q3 = 31.28\n",
    "IQR = q3-q1\n",
    "sz1 = q1-1.5*IQR\n",
    "sz2 = q3+1.5*IQR\n",
    "count = 0\n",
    "\n",
    "\n",
    "df2 = df['fare'][df.fare > 66.3]\n",
    "for i in df2:\n",
    "    count += 1\n",
    "    outliers.append(i)\n",
    "\n",
    "print(count)\n",
    "print(\"There are \", count, \"outliers: \", outliers)\n",
    "\n",
    "m3 = df['fare'].mean()\n",
    "print(\"The mean is: \", m3)"
   ]
  },
  {
   "cell_type": "code",
   "execution_count": 28,
   "metadata": {},
   "outputs": [
    {
     "data": {
      "text/plain": [
       "array([nan, 'F G63', 'B5', 'C22 C26', 'E12', 'D7', 'A36', 'C101',\n",
       "       'C62 C64', 'B35', 'D', 'A23', 'B58 B60', 'D15', 'C6', 'F4', 'D35',\n",
       "       'D56', 'C148', 'C97', 'B49', 'C99', 'C52', 'T', 'A31', 'C7',\n",
       "       'C103', 'D22', 'E33', 'A21', 'B10', 'F33', 'B4', 'E40', 'B38',\n",
       "       'E24', 'B51 B53 B55', 'B96 B98', 'C46', 'E31', 'E8', 'B61', 'B77',\n",
       "       'A9', 'C89', 'A14', 'E58', 'E49', 'E52', 'E45', 'B22', 'B26',\n",
       "       'C85', 'E17', 'B71', 'B20', 'A34', 'C86', 'A16', 'A20', 'A18',\n",
       "       'C54', 'C45', 'D20', 'A29', 'C95', 'E25', 'C111', 'C23 C25 C27',\n",
       "       'E36', 'D34', 'D40', 'B41', 'B39', 'B102', 'C123', 'E63', 'C130',\n",
       "       'B86', 'C92', 'A5', 'C51', 'B42', 'C91', 'C125', 'D10 D12',\n",
       "       'B82 B84', 'E50', 'D33', 'C83', 'B94', 'D49', 'D45', 'B69', 'B11',\n",
       "       'E46', 'C39', 'B18', 'D11', 'C93', 'B28', 'C49', 'B52 B54 B56',\n",
       "       'E60', 'E101', 'C132', 'B37', 'D21', 'D19', 'C124', 'F E57', 'D17',\n",
       "       'B101', 'D28', 'D6', 'D9', 'B80', 'E77', 'C106', 'B79', 'F E46',\n",
       "       'C47', 'D30', 'C90', 'E38', 'C78', 'F G73', 'C30', 'E121', 'C118',\n",
       "       'F2', 'D36', 'D48', 'D47', 'D38', 'C105', 'B36', 'B30', 'D43',\n",
       "       'B24', 'C2', 'C65', 'B73', 'F E69', 'C104', 'E10', 'C110', 'C50',\n",
       "       'B3', 'A24', 'A32', 'A11', 'A10', 'B57 B59 B63 B66', 'G6', 'C28',\n",
       "       'E44', 'A26', 'A6', 'A7', 'C31', 'A19', 'B45', 'E34', 'B78', 'B50',\n",
       "       'C87', 'C116', 'C55 C57', 'D50', 'F', 'E68', 'E67', 'C126', 'C68',\n",
       "       'C70', 'F38', 'C53', 'B19', 'D46', 'D37', 'D26', 'C32', 'C80',\n",
       "       'C82', 'C128', 'E39 E41'], dtype=object)"
      ]
     },
     "execution_count": 28,
     "metadata": {},
     "output_type": "execute_result"
    }
   ],
   "source": [
    "# unique values for cabin column\n",
    "len(pd.unique(df['cabin']))\n",
    "pd.unique(df['cabin'])\n"
   ]
  },
  {
   "cell_type": "code",
   "execution_count": 108,
   "metadata": {},
   "outputs": [
    {
     "data": {
      "text/plain": [
       "928"
      ]
     },
     "execution_count": 108,
     "metadata": {},
     "output_type": "execute_result"
    }
   ],
   "source": [
    "len(pd.unique(df['ticket']))\n",
    "#pd.unique(df['ticket'])"
   ]
  },
  {
   "cell_type": "code",
   "execution_count": 19,
   "metadata": {},
   "outputs": [
    {
     "data": {
      "text/plain": [
       "array(['S', 'C', 'Q', nan], dtype=object)"
      ]
     },
     "execution_count": 19,
     "metadata": {},
     "output_type": "execute_result"
    }
   ],
   "source": [
    "len(pd.unique(df['embarked']))\n",
    "pd.unique(df['embarked'])"
   ]
  },
  {
   "cell_type": "code",
   "execution_count": 89,
   "metadata": {},
   "outputs": [
    {
     "data": {
      "text/plain": [
       "<matplotlib.axes._subplots.AxesSubplot at 0x1a1c0df810>"
      ]
     },
     "execution_count": 89,
     "metadata": {},
     "output_type": "execute_result"
    },
    {
     "data": {
      "image/png": "[encoded data removed]",
      "text/plain": [
       "<Figure size 432x288 with 1 Axes>"
      ]
     },
     "metadata": {
      "needs_background": "light"
     },
     "output_type": "display_data"
    }
   ],
   "source": [
    "boxplot = sns.boxplot(x=df['siblings/spouses'])\n",
    "boxplot"
   ]
  },
  {
   "cell_type": "code",
   "execution_count": 90,
   "metadata": {},
   "outputs": [
    {
     "data": {
      "text/plain": [
       "<matplotlib.axes._subplots.AxesSubplot at 0x1a1c0e7450>"
      ]
     },
     "execution_count": 90,
     "metadata": {},
     "output_type": "execute_result"
    },
    {
     "data": {
      "image/png": "[encoded data removed]",
      "text/plain": [
       "<Figure size 432x288 with 1 Axes>"
      ]
     },
     "metadata": {
      "needs_background": "light"
     },
     "output_type": "display_data"
    }
   ],
   "source": [
    "boxplot = sns.boxplot(x=df['parents/children'])\n",
    "boxplot"
   ]
  },
  {
   "cell_type": "code",
   "execution_count": 91,
   "metadata": {},
   "outputs": [
    {
     "data": {
      "text/plain": [
       "<matplotlib.axes._subplots.AxesSubplot at 0x1190bd290>"
      ]
     },
     "execution_count": 91,
     "metadata": {},
     "output_type": "execute_result"
    },
    {
     "data": {
      "image/png": "[encoded data removed]",
      "text/plain": [
       "<Figure size 432x288 with 1 Axes>"
      ]
     },
     "metadata": {
      "needs_background": "light"
     },
     "output_type": "display_data"
    }
   ],
   "source": [
    "boxplot = sns.boxplot(x=df['fare'])\n",
    "boxplot"
   ]
  },
  {
   "cell_type": "code",
   "execution_count": null,
   "metadata": {},
   "outputs": [],
   "source": []
  }
 ],
 "metadata": {
  "kernelspec": {
   "display_name": "Python 3",
   "language": "python",
   "name": "python3"
  },
  "language_info": {
   "codemirror_mode": {
    "name": "ipython",
    "version": 3
   },
   "file_extension": ".py",
   "mimetype": "text/x-python",
   "name": "python",
   "nbconvert_exporter": "python",
   "pygments_lexer": "ipython3",
   "version": "3.7.4"
  }
 },
 "nbformat": 4,
 "nbformat_minor": 2
}
