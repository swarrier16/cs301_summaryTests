{
 "cells": [
  {
   "cell_type": "code",
   "execution_count": null,
   "metadata": {},
   "outputs": [],
   "source": [
    "#Author: Shruti Warrier\n",
    "#Date: 2020/01/29\n",
    "#CS301-006, Professor Watson\n",
    "#HW2 Solution looking at quartile summary for given cases\n",
    "#https://github.com/swarrier16/cs301_summaryTests\n",
    "#Branch: Master \n"
   ]
  },
  {
   "cell_type": "markdown",
   "metadata": {},
   "source": [
    "## HW 02 - Base Code to Start"
   ]
  },
  {
   "cell_type": "markdown",
   "metadata": {},
   "source": [
    "#### Use these two samples to test your functions"
   ]
  },
  {
   "cell_type": "code",
   "execution_count": 1,
   "metadata": {},
   "outputs": [],
   "source": [
    "grades = [0, 0, 14, 35, 63, 66, 75, 77, 78, 80, 81, 81, 87, 89, 90, 91, 100]"
   ]
  },
  {
   "cell_type": "code",
   "execution_count": 2,
   "metadata": {},
   "outputs": [],
   "source": [
    "times = [5, 10, 10, 15, 15, 15, 15, 20, 20, 20, 25, 30, 30, 40, 40, 45, 60, 60, 65, 89]"
   ]
  },
  {
   "cell_type": "markdown",
   "metadata": {},
   "source": [
    "### Please answer Problem 2 below:"
   ]
  },
  {
   "cell_type": "code",
   "execution_count": null,
   "metadata": {},
   "outputs": [],
   "source": [
    "def q_summary_V1(numbers):\n",
    "    "
   ]
  },
  {
   "cell_type": "code",
   "execution_count": null,
   "metadata": {},
   "outputs": [],
   "source": []
  },
  {
   "cell_type": "code",
   "execution_count": null,
   "metadata": {},
   "outputs": [],
   "source": []
  },
  {
   "cell_type": "code",
   "execution_count": null,
   "metadata": {},
   "outputs": [],
   "source": []
  },
  {
   "cell_type": "code",
   "execution_count": null,
   "metadata": {},
   "outputs": [],
   "source": []
  },
  {
   "cell_type": "code",
   "execution_count": null,
   "metadata": {},
   "outputs": [],
   "source": []
  },
  {
   "cell_type": "markdown",
   "metadata": {},
   "source": [
    "### Please answer Problem 3 below:"
   ]
  },
  {
   "cell_type": "code",
   "execution_count": 1,
   "metadata": {},
   "outputs": [],
   "source": [
    "def get_quantile_indexes(n, p):\n",
    "    '''\n",
    "    Calculate index values as input for interpolation\n",
    "    \n",
    "    input\n",
    "    _____\n",
    "    n (list) - the list of numbers\n",
    "    p (float) - the percentage corresponding to the quantile (ex:0.25)\n",
    "    \n",
    "    output\n",
    "    ______\n",
    "    l, i, u (float) - the corresponding x1, x, x1 values as calculated via class\n",
    "    '''\n",
    "    i = p*(n+1) - 1\n",
    "    l = np.floor(i)\n",
    "    u = np.ceil(i)\n",
    "    return l,i,u\n",
    "\n",
    "\n",
    "def get_quantile(nums, q):\n",
    "    '''\n",
    "    Use the in-class method of interpolation to calculate the quantile\n",
    "    \n",
    "    input\n",
    "    _____\n",
    "    nums (list) - the list of numbers\n",
    "    q (float) - the quantile desired\n",
    "    \n",
    "    output\n",
    "    ______\n",
    "    y (int/float) - this is the value in nums at the given quantile q\n",
    "    '''\n",
    "    x1, x, x2 = get_quantile_indexes(q, len(nums))\n",
    "    if np.floor(x) == x1 and np.ceil(x) == x1:\n",
    "        x = int(x)\n",
    "        y = nums[x]\n",
    "        # print('x = {}, y = {}'.format(x, y))\n",
    "        return y\n",
    "        \n",
    "    # print('x1, x, x2 = {}, {}, {}'.format(x1, x, x2))\n",
    "    y1, y2 = nums[int(x1)], nums[int(x2)]\n",
    "    # print('y1, y2 = {}, {}'.format(y1, y2))\n",
    "    y = (x - x1) * (y1-y2) / (x1 - x2) + y1\n",
    "    # print('y =', y)\n",
    "    return y"
   ]
  },
  {
   "cell_type": "code",
   "execution_count": null,
   "metadata": {},
   "outputs": [],
   "source": []
  },
  {
   "cell_type": "code",
   "execution_count": null,
   "metadata": {},
   "outputs": [],
   "source": []
  },
  {
   "cell_type": "code",
   "execution_count": null,
   "metadata": {},
   "outputs": [],
   "source": []
  },
  {
   "cell_type": "code",
   "execution_count": null,
   "metadata": {},
   "outputs": [],
   "source": []
  }
 ],
 "metadata": {
  "kernelspec": {
   "display_name": "Python 3",
   "language": "python",
   "name": "python3"
  },
  "language_info": {
   "codemirror_mode": {
    "name": "ipython",
    "version": 3
   },
   "file_extension": ".py",
   "mimetype": "text/x-python",
   "name": "python",
   "nbconvert_exporter": "python",
   "pygments_lexer": "ipython3",
   "version": "3.7.4"
  }
 },
 "nbformat": 4,
 "nbformat_minor": 2
}
