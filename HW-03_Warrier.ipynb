{
 "cells": [
  {
   "cell_type": "code",
   "execution_count": null,
   "metadata": {},
   "outputs": [],
   "source": [
    "#Author: Shruti Warrier\n",
    "#Date: 2020/02/16\n",
    "#CS301-006, Professor Watson\n",
    "#HW3 Solution \n",
    "#Hw3 uses files to calculate and display data\n",
    "#https://github.com/swarrier16/cs301_summaryTests\n",
    "#https://github.com/swarrier16/cs301_summaryTests/commit/a3c046f7c7fd6f2de5b2bb8b1b732e806e0b2606\n",
    "#Branch: Master "
   ]
  },
  {
   "cell_type": "markdown",
   "metadata": {},
   "source": [
    "# HW 3\n",
    "\n",
    "### Problem 1"
   ]
  },
  {
   "cell_type": "code",
   "execution_count": 214,
   "metadata": {},
   "outputs": [],
   "source": [
    "import pandas as pd\n",
    "import numpy as np"
   ]
  },
  {
   "cell_type": "code",
   "execution_count": 215,
   "metadata": {},
   "outputs": [],
   "source": [
    "def data_reader(data_path):\n",
    "    try:\n",
    "        drinks_df = pd.read_csv(data_path)\n",
    "        display(drinks_df.shape)\n",
    "        \n",
    "        return drinks_df\n",
    "    \n",
    "    except: \n",
    "        print(\"Error during reading, please try again\")\n",
    "    "
   ]
  },
  {
   "cell_type": "code",
   "execution_count": 216,
   "metadata": {},
   "outputs": [
    {
     "data": {
      "text/plain": [
       "(193, 6)"
      ]
     },
     "metadata": {},
     "output_type": "display_data"
    }
   ],
   "source": [
    "my = data_reader('/Users/swarrier/Documents/CS301/drinks.csv')"
   ]
  },
  {
   "cell_type": "code",
   "execution_count": 18,
   "metadata": {},
   "outputs": [
    {
     "name": "stdout",
     "output_type": "stream",
     "text": [
      "Error during reading, please try again\n"
     ]
    }
   ],
   "source": [
    "my = data_reader('i_dont_exist.csv')"
   ]
  },
  {
   "cell_type": "markdown",
   "metadata": {},
   "source": [
    "### Problem 2"
   ]
  },
  {
   "cell_type": "code",
   "execution_count": 219,
   "metadata": {},
   "outputs": [],
   "source": [
    "def get_num_outliers(df, col):\n",
    "    nums = df[col]\n",
    "    \n",
    "    q1 = np.quantile(nums, .25)\n",
    "    q2 = np.quantile(nums, .50)\n",
    "    q3 = np.quantile(nums, .75)\n",
    "    IQR = q3-q1\n",
    "    sz1 = q1-1.5*IQR\n",
    "    sz2 = q3+1.5*IQR\n",
    "    count = 0\n",
    "    \n",
    "    for num in nums:\n",
    "        if (num < sz1) or (num > sz2):\n",
    "            count += 1\n",
    "        else:\n",
    "            continue\n",
    "    \n",
    "    print(count)\n",
    "    "
   ]
  },
  {
   "cell_type": "code",
   "execution_count": 220,
   "metadata": {},
   "outputs": [
    {
     "name": "stdout",
     "output_type": "stream",
     "text": [
      "26\n"
     ]
    }
   ],
   "source": [
    "get_num_outliers(my, 'wine_servings')"
   ]
  },
  {
   "cell_type": "markdown",
   "metadata": {},
   "source": [
    "### Problem 3"
   ]
  },
  {
   "cell_type": "code",
   "execution_count": 264,
   "metadata": {},
   "outputs": [],
   "source": [
    "def get_num_deviants(df, col, multiplier):\n",
    "    \n",
    "    nums = df[col]\n",
    "    dev = nums.std()\n",
    "    mean = nums.mean()\n",
    "    \n",
    "    high = mean + multiplier*dev\n",
    "    low = mean - multiplier*dev\n",
    "    values = []\n",
    "    \n",
    "    for num in nums:\n",
    "        if (num >= mean) and (num >= high):\n",
    "            values.append(num)\n",
    "        elif (num <= mean) and (num <= low):\n",
    "            values.append(num)\n",
    "        else:\n",
    "            continue\n",
    "    \n",
    "    print(len(values))\n",
    "    "
   ]
  },
  {
   "cell_type": "code",
   "execution_count": 265,
   "metadata": {},
   "outputs": [
    {
     "name": "stdout",
     "output_type": "stream",
     "text": [
      "28\n"
     ]
    }
   ],
   "source": [
    "get_num_deviants(my, 'wine_servings', 1)"
   ]
  },
  {
   "cell_type": "code",
   "execution_count": 266,
   "metadata": {},
   "outputs": [
    {
     "name": "stdout",
     "output_type": "stream",
     "text": [
      "15\n"
     ]
    }
   ],
   "source": [
    "get_num_deviants(my, 'wine_servings', 2)"
   ]
  },
  {
   "cell_type": "code",
   "execution_count": null,
   "metadata": {},
   "outputs": [],
   "source": []
  }
 ],
 "metadata": {
  "kernelspec": {
   "display_name": "Python 3",
   "language": "python",
   "name": "python3"
  },
  "language_info": {
   "codemirror_mode": {
    "name": "ipython",
    "version": 3
   },
   "file_extension": ".py",
   "mimetype": "text/x-python",
   "name": "python",
   "nbconvert_exporter": "python",
   "pygments_lexer": "ipython3",
   "version": "3.7.4"
  }
 },
 "nbformat": 4,
 "nbformat_minor": 2
}
